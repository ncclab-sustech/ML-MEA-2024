{
  "cells": [
    {
      "cell_type": "markdown",
      "metadata": {},
      "source": [
        "## 线性回归"
      ]
    },
    {
      "cell_type": "code",
      "execution_count": 1,
      "metadata": {
        "trusted": true
      },
      "outputs": [
        {
          "name": "stderr",
          "output_type": "stream",
          "text": [
            "/lib/python3.9/site-packages/pandas/compat/__init__.py:124: UserWarning: Could not import the lzma module. Your installed Python is incomplete. Attempting to use lzma compression will result in a RuntimeError.\n",
            "  warnings.warn(msg)\n"
          ]
        }
      ],
      "source": [
        "import numpy as np\n",
        "import pandas as pd"
      ]
    },
    {
      "cell_type": "code",
      "execution_count": 2,
      "metadata": {
        "trusted": true
      },
      "outputs": [],
      "source": [
        "### 初始化模型参数\n",
        "def initialize_params(dims):\n",
        "    '''\n",
        "    输入：\n",
        "    dims：训练数据变量维度\n",
        "    输出：\n",
        "    w：初始化权重参数值\n",
        "    b：初始化偏差参数值\n",
        "    '''\n",
        "    # 初始化权重参数为零矩阵\n",
        "    w = np.zeros((dims, 1))\n",
        "    # 初始化偏差参数为零\n",
        "    b = 0\n",
        "    return w, b"
      ]
    },
    {
      "cell_type": "code",
      "execution_count": 3,
      "metadata": {
        "code_folding": [],
        "trusted": true
      },
      "outputs": [],
      "source": [
        "### 定义模型主体部分\n",
        "### 包括线性回归公式、均方损失和参数偏导三部分\n",
        "def linear_loss(X, y, w, b):\n",
        "    '''\n",
        "    输入:\n",
        "    X：输入变量矩阵\n",
        "    y：输出标签向量\n",
        "    w：变量参数权重矩阵\n",
        "    b：偏差项\n",
        "    输出：\n",
        "    y_hat：线性模型预测输出\n",
        "    loss：均方损失值\n",
        "    dw：权重参数一阶偏导\n",
        "    db：偏差项一阶偏导\n",
        "    '''\n",
        "    # 训练样本数量\n",
        "    num_train = X.shape[0]\n",
        "    # 训练特征数量\n",
        "    num_feature = X.shape[1]\n",
        "    # 线性回归预测输出\n",
        "    y_hat = np.dot(X, w) + b\n",
        "    # 计算预测输出与实际标签之间的均方损失\n",
        "    loss = np.sum((y_hat-y)**2)/num_train\n",
        "    # 基于均方损失对权重参数的一阶偏导数\n",
        "    dw = np.dot(X.T, (y_hat-y)) /num_train\n",
        "    # 基于均方损失对偏差项的一阶偏导数\n",
        "    db = np.sum((y_hat-y)) /num_train\n",
        "    return y_hat, loss, dw, db"
      ]
    },
    {
      "cell_type": "code",
      "execution_count": 4,
      "metadata": {
        "trusted": true
      },
      "outputs": [],
      "source": [
        "### 定义线性回归模型训练过程\n",
        "def linear_train(X, y, learning_rate=0.01, epochs=10000):\n",
        "    '''\n",
        "    输入：\n",
        "    X：输入变量矩阵\n",
        "    y：输出标签向量\n",
        "    learning_rate：学习率\n",
        "    epochs：训练迭代次数\n",
        "    输出：\n",
        "    loss_his：每次迭代的均方损失\n",
        "    params：优化后的参数字典\n",
        "    grads：优化后的参数梯度字典\n",
        "    '''\n",
        "    # 记录训练损失的空列表\n",
        "    loss_his = []\n",
        "    # 初始化模型参数\n",
        "    w, b = initialize_params(X.shape[1])\n",
        "    # 迭代训练\n",
        "    for i in range(1, epochs):\n",
        "        # 计算当前迭代的预测值、损失和梯度\n",
        "        y_hat, loss, dw, db = linear_loss(X, y, w, b)\n",
        "        # 基于梯度下降的参数更新\n",
        "        w += -learning_rate * dw\n",
        "        b += -learning_rate * db\n",
        "        # 记录当前迭代的损失\n",
        "        loss_his.append(loss)\n",
        "        # 每1000次迭代打印当前损失信息\n",
        "        if i % 10000 == 0:\n",
        "            print('epoch %d loss %f' % (i, loss))\n",
        "        # 将当前迭代步优化后的参数保存到字典\n",
        "        params = {\n",
        "            'w': w,\n",
        "            'b': b\n",
        "        }\n",
        "        # 将当前迭代步的梯度保存到字典\n",
        "        grads = {\n",
        "            'dw': dw,\n",
        "            'db': db\n",
        "        }     \n",
        "    return loss_his, params, grads"
      ]
    },
    {
      "cell_type": "code",
      "execution_count": 5,
      "metadata": {
        "trusted": true
      },
      "outputs": [
        {
          "name": "stdout",
          "output_type": "stream",
          "text": [
            "(442, 10)\n",
            "(442,)\n",
            "[[ 0.03807591  0.05068012  0.06169621  0.02187235 -0.0442235  -0.03482076\n",
            "  -0.04340085 -0.00259226  0.01990842 -0.01764613]\n",
            " [-0.00188202 -0.04464164 -0.05147406 -0.02632783 -0.00844872 -0.01916334\n",
            "   0.07441156 -0.03949338 -0.06832974 -0.09220405]\n",
            " [ 0.08529891  0.05068012  0.04445121 -0.00567061 -0.04559945 -0.03419447\n",
            "  -0.03235593 -0.00259226  0.00286377 -0.02593034]\n",
            " [-0.08906294 -0.04464164 -0.01159501 -0.03665645  0.01219057  0.02499059\n",
            "  -0.03603757  0.03430886  0.02269202 -0.00936191]\n",
            " [ 0.00538306 -0.04464164 -0.03638469  0.02187235  0.00393485  0.01559614\n",
            "   0.00814208 -0.00259226 -0.03199144 -0.04664087]]\n",
            "[151.  75. 141. 206. 135.]\n"
          ]
        }
      ],
      "source": [
        "from sklearn.datasets import load_diabetes\n",
        "diabetes = load_diabetes()\n",
        "data = diabetes.data\n",
        "target = diabetes.target \n",
        "print(data.shape)\n",
        "print(target.shape)\n",
        "print(data[:5])\n",
        "print(target[:5])"
      ]
    },
    {
      "cell_type": "code",
      "execution_count": 6,
      "metadata": {
        "trusted": true
      },
      "outputs": [
        {
          "name": "stdout",
          "output_type": "stream",
          "text": [
            "X_train's shape:  (353, 10)\n",
            "X_test's shape:  (89, 10)\n",
            "y_train's shape:  (353, 1)\n",
            "y_test's shape:  (89, 1)\n"
          ]
        }
      ],
      "source": [
        "# 导入sklearn diabetes数据接口\n",
        "from sklearn.datasets import load_diabetes\n",
        "# 导入sklearn打乱数据函数\n",
        "from sklearn.utils import shuffle\n",
        "# 获取diabetes数据集\n",
        "diabetes = load_diabetes()\n",
        "# 获取输入和标签\n",
        "data, target = diabetes.data, diabetes.target \n",
        "# 打乱数据集\n",
        "X, y = shuffle(data, target, random_state=13)\n",
        "# 按照8/2划分训练集和测试集\n",
        "offset = int(X.shape[0] * 0.8)\n",
        "# 训练集\n",
        "X_train, y_train = X[:offset], y[:offset]\n",
        "# 测试集\n",
        "X_test, y_test = X[offset:], y[offset:]\n",
        "# 将训练集改为列向量的形式\n",
        "y_train = y_train.reshape((-1,1))\n",
        "# 将验证集改为列向量的形式\n",
        "y_test = y_test.reshape((-1,1))\n",
        "# 打印训练集和测试集维度\n",
        "print(\"X_train's shape: \", X_train.shape)\n",
        "print(\"X_test's shape: \", X_test.shape)\n",
        "print(\"y_train's shape: \", y_train.shape)\n",
        "print(\"y_test's shape: \", y_test.shape)"
      ]
    },
    {
      "cell_type": "code",
      "execution_count": 7,
      "metadata": {
        "trusted": true
      },
      "outputs": [
        {
          "name": "stdout",
          "output_type": "stream",
          "text": [
            "epoch 10000 loss 3679.868273\n",
            "epoch 20000 loss 3219.164522\n",
            "epoch 30000 loss 3040.820279\n",
            "epoch 40000 loss 2944.936608\n",
            "epoch 50000 loss 2885.991571\n",
            "epoch 60000 loss 2848.051813\n",
            "epoch 70000 loss 2823.157085\n",
            "epoch 80000 loss 2806.627821\n",
            "epoch 90000 loss 2795.546917\n",
            "epoch 100000 loss 2788.051561\n",
            "epoch 110000 loss 2782.935842\n",
            "epoch 120000 loss 2779.411265\n",
            "epoch 130000 loss 2776.957989\n",
            "epoch 140000 loss 2775.230803\n",
            "epoch 150000 loss 2773.998942\n",
            "epoch 160000 loss 2773.107192\n",
            "epoch 170000 loss 2772.450534\n",
            "epoch 180000 loss 2771.957489\n",
            "epoch 190000 loss 2771.579121\n",
            "{'w': array([[  10.56390075],\n",
            "       [-236.41625133],\n",
            "       [ 481.50915635],\n",
            "       [ 294.47043558],\n",
            "       [ -60.99362023],\n",
            "       [-110.54181897],\n",
            "       [-206.44046579],\n",
            "       [ 163.23511378],\n",
            "       [ 409.28971463],\n",
            "       [  65.73254667]]), 'b': 150.8144748910088}\n"
          ]
        }
      ],
      "source": [
        "# 线性回归模型训练\n",
        "loss_his, params, grads = linear_train(X_train, y_train, 0.01, 200000)\n",
        "# 打印训练后得到模型参数\n",
        "print(params)"
      ]
    },
    {
      "cell_type": "code",
      "execution_count": 8,
      "metadata": {
        "trusted": true
      },
      "outputs": [
        {
          "data": {
            "text/plain": [
              "array([[ 82.0537503 ],\n",
              "       [167.22420149],\n",
              "       [112.38335719],\n",
              "       [138.15504748],\n",
              "       [174.71840809]])"
            ]
          },
          "execution_count": 8,
          "metadata": {},
          "output_type": "execute_result"
        }
      ],
      "source": [
        "### 定义线性回归预测函数\n",
        "def predict(X, params):\n",
        "    '''\n",
        "    输入：\n",
        "    X：测试数据集\n",
        "    params：模型训练参数\n",
        "    输出：\n",
        "    y_pred：模型预测结果\n",
        "    '''\n",
        "    # 获取模型参数\n",
        "    w = params['w']\n",
        "    b = params['b']\n",
        "    # 预测\n",
        "    y_pred = np.dot(X, w) + b\n",
        "    return y_pred\n",
        "# 基于测试集的预测\n",
        "y_pred = predict(X_test, params)\n",
        "# 打印前五个预测值\n",
        "y_pred[:5]"
      ]
    },
    {
      "cell_type": "code",
      "execution_count": 9,
      "metadata": {
        "trusted": true
      },
      "outputs": [
        {
          "name": "stdout",
          "output_type": "stream",
          "text": [
            "[[ 37.]\n",
            " [122.]\n",
            " [ 88.]\n",
            " [214.]\n",
            " [262.]]\n"
          ]
        }
      ],
      "source": [
        "print(y_test[:5])"
      ]
    },
    {
      "cell_type": "code",
      "execution_count": 10,
      "metadata": {
        "trusted": true
      },
      "outputs": [],
      "source": [
        "### 定义R2系数函数\n",
        "def r2_score(y_test, y_pred):\n",
        "    '''\n",
        "    输入：\n",
        "    y_test：测试集标签值\n",
        "    y_pred：测试集预测值\n",
        "    输出：\n",
        "    r2：R2系数\n",
        "    '''\n",
        "    # 测试标签均值\n",
        "    y_avg = np.mean(y_test)\n",
        "    # 总离差平方和\n",
        "    ss_tot = np.sum((y_test - y_avg)**2)\n",
        "    # 残差平方和\n",
        "    ss_res = np.sum((y_test - y_pred)**2)\n",
        "    # R2计算\n",
        "    r2 = 1 - (ss_res/ss_tot)\n",
        "    return r2"
      ]
    },
    {
      "cell_type": "code",
      "execution_count": 11,
      "metadata": {
        "trusted": true
      },
      "outputs": [
        {
          "name": "stdout",
          "output_type": "stream",
          "text": [
            "0.5334188457463577\n"
          ]
        }
      ],
      "source": [
        "print(r2_score(y_test, y_pred))"
      ]
    },
    {
      "cell_type": "code",
      "execution_count": 12,
      "metadata": {
        "trusted": true
      },
      "outputs": [
        {
          "data": {
            "image/png": "[encoded data removed]",
            "text/plain": [
              "<pyolite.display.Image at 0x57c0fa8>"
            ]
          },
          "metadata": {},
          "output_type": "display_data"
        }
      ],
      "source": [
        "import matplotlib.pyplot as plt\n",
        "f = X_test.dot(params['w']) + params['b']\n",
        "\n",
        "plt.scatter(range(X_test.shape[0]), y_test)\n",
        "plt.plot(f, color = 'darkorange')\n",
        "plt.xlabel('X_test')\n",
        "plt.ylabel('y_test')\n",
        "plt.show();"
      ]
    },
    {
      "cell_type": "code",
      "execution_count": 13,
      "metadata": {
        "trusted": true
      },
      "outputs": [
        {
          "data": {
            "image/png": "[encoded data removed]",
            "text/plain": [
              "<pyolite.display.Image at 0x5403180>"
            ]
          },
          "metadata": {},
          "output_type": "display_data"
        }
      ],
      "source": [
        "plt.plot(loss_his, color = 'blue')\n",
        "plt.xlabel('epochs')\n",
        "plt.ylabel('loss')\n",
        "plt.show()"
      ]
    },
    {
      "cell_type": "code",
      "execution_count": 14,
      "metadata": {
        "trusted": true
      },
      "outputs": [
        {
          "data": {
            "text/plain": [
              "(442, 11)"
            ]
          },
          "execution_count": 14,
          "metadata": {},
          "output_type": "execute_result"
        }
      ],
      "source": [
        "from sklearn.utils import shuffle\n",
        "X, y = shuffle(data, target, random_state=13)\n",
        "X = X.astype(np.float32)\n",
        "data = np.concatenate((X, y.reshape((-1,1))), axis=1)\n",
        "data.shape"
      ]
    },
    {
      "cell_type": "code",
      "execution_count": 19,
      "metadata": {
        "trusted": true
      },
      "outputs": [
        {
          "name": "stdout",
          "output_type": "stream",
          "text": [
            "epoch 10000 loss 0.002099\n",
            "epoch 20000 loss 0.001925\n",
            "epoch 30000 loss 0.001775\n",
            "epoch 40000 loss 0.001645\n",
            "epoch 50000 loss 0.001531\n",
            "epoch 60000 loss 0.001431\n",
            "epoch 70000 loss 0.001343\n",
            "epoch 80000 loss 0.001265\n",
            "epoch 90000 loss 0.001195\n",
            "five kold cross validation score is 0.0015911976864228375\n",
            "valid score is 0.0010064765148271918\n",
            "epoch 10000 loss 0.002069\n",
            "epoch 20000 loss 0.001898\n",
            "epoch 30000 loss 0.001751\n",
            "epoch 40000 loss 0.001623\n",
            "epoch 50000 loss 0.001512\n",
            "epoch 60000 loss 0.001414\n",
            "epoch 70000 loss 0.001328\n",
            "epoch 80000 loss 0.001251\n",
            "epoch 90000 loss 0.001183\n",
            "five kold cross validation score is 0.0015711660209720155\n",
            "valid score is 0.0010892075338908161\n",
            "epoch 10000 loss 0.001984\n",
            "epoch 20000 loss 0.001834\n",
            "epoch 30000 loss 0.001703\n",
            "epoch 40000 loss 0.001588\n",
            "epoch 50000 loss 0.001487\n",
            "epoch 60000 loss 0.001397\n",
            "epoch 70000 loss 0.001317\n",
            "epoch 80000 loss 0.001245\n",
            "epoch 90000 loss 0.001181\n",
            "five kold cross validation score is 0.0015364109950577638\n",
            "valid score is 0.0012629308467913616\n",
            "epoch 10000 loss 0.001985\n",
            "epoch 20000 loss 0.001816\n",
            "epoch 30000 loss 0.001671\n",
            "epoch 40000 loss 0.001546\n",
            "epoch 50000 loss 0.001438\n",
            "epoch 60000 loss 0.001343\n",
            "epoch 70000 loss 0.001261\n",
            "epoch 80000 loss 0.001189\n",
            "epoch 90000 loss 0.001124\n",
            "five kold cross validation score is 0.0014983332622738063\n",
            "valid score is 0.001399455870528162\n",
            "epoch 10000 loss 0.002173\n",
            "epoch 20000 loss 0.001979\n",
            "epoch 30000 loss 0.001812\n",
            "epoch 40000 loss 0.001668\n",
            "epoch 50000 loss 0.001544\n",
            "epoch 60000 loss 0.001435\n",
            "epoch 70000 loss 0.001340\n",
            "epoch 80000 loss 0.001257\n",
            "epoch 90000 loss 0.001183\n",
            "five kold cross validation score is 0.001613653846761847\n",
            "valid score is 0.0009210230118427011\n"
          ]
        }
      ],
      "source": [
        "from random import shuffle\n",
        "\n",
        "def k_fold_cross_validation(items, k, randomize=True):\n",
        "    if randomize:\n",
        "        items = list(items)\n",
        "        shuffle(items)\n",
        "\n",
        "    slices = [items[i::k] for i in range(k)]\n",
        "\n",
        "    for i in range(k):\n",
        "        validation = slices[i]\n",
        "        training = [item\n",
        "                    for s in slices if s is not validation\n",
        "                    for item in s]\n",
        "        training = np.array(training)\n",
        "        validation = np.array(validation)\n",
        "        yield training, validation\n",
        "\n",
        "\n",
        "for training, validation in k_fold_cross_validation(data, 5): \n",
        "    X_train = training[:, :10]\n",
        "    y_train = training[:, -1].reshape((-1,1))\n",
        "    X_valid = validation[:, :10]\n",
        "    y_valid = validation[:, -1].reshape((-1,1))\n",
        "    loss5 = []\n",
        "    #print(X_train.shape, y_train.shape, X_valid.shape, y_valid.shape)\n",
        "    loss, params, grads = linear_train(X_train, y_train, 0.001, 100000)\n",
        "    loss5.append(loss)\n",
        "    score = np.mean(loss5)\n",
        "    print('five kold cross validation score is', score)\n",
        "    y_pred = predict(X_valid, params)\n",
        "    valid_score = np.sum(((y_pred-y_valid)**2))/len(X_valid)\n",
        "    print('valid score is', valid_score)"
      ]
    },
    {
      "cell_type": "code",
      "execution_count": 16,
      "metadata": {
        "trusted": true
      },
      "outputs": [
        {
          "name": "stdout",
          "output_type": "stream",
          "text": [
            "(353, 10) (353, 1) (89, 10) (89, 1)\n"
          ]
        }
      ],
      "source": [
        "from sklearn.datasets import load_diabetes\n",
        "from sklearn.utils import shuffle\n",
        "from sklearn.model_selection import train_test_split\n",
        "\n",
        "diabetes = load_diabetes()\n",
        "data = diabetes.data\n",
        "target = diabetes.target \n",
        "X, y = shuffle(data, target, random_state=13)\n",
        "X = X.astype(np.float32)\n",
        "y = y.reshape((-1, 1))\n",
        "X_train, X_test, y_train, y_test = train_test_split(X, y, test_size=0.2, random_state=42)\n",
        "print(X_train.shape, y_train.shape, X_test.shape, y_test.shape)"
      ]
    },
    {
      "cell_type": "code",
      "execution_count": 17,
      "metadata": {
        "trusted": true
      },
      "outputs": [
        {
          "name": "stdout",
          "output_type": "stream",
          "text": [
            "Coefficients: \n",
            " [[ -23.510447 -216.31195   472.36713   372.07214  -863.6996    583.27655\n",
            "   105.79421   194.76991   754.0737     38.222343]]\n",
            "Mean squared error: 3028.50\n",
            "Variance score: 0.53\n",
            "0.5298198851517044\n"
          ]
        },
        {
          "data": {
            "image/png": "[encoded data removed]",
            "text/plain": [
              "<pyolite.display.Image at 0x5fb4130>"
            ]
          },
          "metadata": {},
          "output_type": "display_data"
        }
      ],
      "source": [
        "import matplotlib.pyplot as plt\n",
        "import numpy as np\n",
        "from sklearn import linear_model\n",
        "from sklearn.metrics import mean_squared_error, r2_score\n",
        "\n",
        "\n",
        "regr = linear_model.LinearRegression()\n",
        "regr.fit(X_train, y_train)\n",
        "\n",
        "y_pred = regr.predict(X_test)\n",
        "\n",
        "# The coefficients\n",
        "print('Coefficients: \\n', regr.coef_)\n",
        "# The mean squared error\n",
        "print(\"Mean squared error: %.2f\"\n",
        "      % mean_squared_error(y_test, y_pred))\n",
        "# Explained variance score: 1 is perfect prediction\n",
        "print('Variance score: %.2f' % r2_score(y_test, y_pred))\n",
        "print(r2_score(y_test, y_pred))\n",
        "\n",
        "# Plot outputs\n",
        "plt.scatter(range(X_test.shape[0]), y_test, color='red')\n",
        "plt.plot(range(X_test.shape[0]), y_pred, color='blue', linewidth=3)\n",
        "\n",
        "plt.xticks(())\n",
        "plt.yticks(())\n",
        "\n",
        "plt.show();"
      ]
    },
    {
      "cell_type": "code",
      "execution_count": 24,
      "metadata": {
        "trusted": true
      },
      "outputs": [
        {
          "name": "stdout",
          "output_type": "stream",
          "text": [
            "Cross Validating - Run 1 out of 5\n",
            "Fold 1 out of 5\n",
            "Fold 2 out of 5\n",
            "Fold 3 out of 5\n",
            "Fold 4 out of 5\n",
            "Fold 5 out of 5\n"
          ]
        },
        {
          "ename": "<class 'NameError'>",
          "evalue": "name 'R2' is not defined",
          "output_type": "error",
          "traceback": [
            "\u001b[0;31m---------------------------------------------------------------------------\u001b[0m",
            "\u001b[0;31mNameError\u001b[0m                                 Traceback (most recent call last)",
            "Input \u001b[0;32mIn [24]\u001b[0m, in \u001b[0;36m<cell line: 31>\u001b[0;34m()\u001b[0m\n\u001b[1;32m     28\u001b[0m     \u001b[38;5;28mprint\u001b[39m(\u001b[38;5;124m'\u001b[39m\u001b[38;5;124mDeviation:\u001b[39m\u001b[38;5;124m'\u001b[39m,\u001b[38;5;28mstr\u001b[39m(np\u001b[38;5;241m.\u001b[39mstd(score)))\n\u001b[1;32m     29\u001b[0m     \u001b[38;5;28;01mpass\u001b[39;00m\n\u001b[0;32m---> 31\u001b[0m \u001b[43mcross_validate\u001b[49m\u001b[43m(\u001b[49m\u001b[43mregr\u001b[49m\u001b[43m,\u001b[49m\u001b[43m \u001b[49m\u001b[43mX\u001b[49m\u001b[43m,\u001b[49m\u001b[43m \u001b[49m\u001b[43my\u001b[49m\u001b[43m,\u001b[49m\u001b[43m \u001b[49m\u001b[43mfolds\u001b[49m\u001b[38;5;241;43m=\u001b[39;49m\u001b[38;5;241;43m5\u001b[39;49m\u001b[43m,\u001b[49m\u001b[43m \u001b[49m\u001b[43mrepeats\u001b[49m\u001b[38;5;241;43m=\u001b[39;49m\u001b[38;5;241;43m5\u001b[39;49m\u001b[43m)\u001b[49m\n",
            "Input \u001b[0;32mIn [24]\u001b[0m, in \u001b[0;36mcross_validate\u001b[0;34m(model, x, y, folds, repeats)\u001b[0m\n\u001b[1;32m     23\u001b[0m         ypred[test_ind] \u001b[38;5;241m=\u001b[39m model\u001b[38;5;241m.\u001b[39mpredict(xtest)\n\u001b[1;32m     24\u001b[0m         i \u001b[38;5;241m+\u001b[39m\u001b[38;5;241m=\u001b[39m \u001b[38;5;241m1\u001b[39m\n\u001b[0;32m---> 25\u001b[0m     score[r] \u001b[38;5;241m=\u001b[39m \u001b[43mR2\u001b[49m(ypred[:,r],y)\n\u001b[1;32m     26\u001b[0m \u001b[38;5;28mprint\u001b[39m(\u001b[38;5;124m'\u001b[39m\u001b[38;5;130;01m\\n\u001b[39;00m\u001b[38;5;124mOverall R2:\u001b[39m\u001b[38;5;124m'\u001b[39m,\u001b[38;5;28mstr\u001b[39m(score))\n\u001b[1;32m     27\u001b[0m \u001b[38;5;28mprint\u001b[39m(\u001b[38;5;124m'\u001b[39m\u001b[38;5;124mMean:\u001b[39m\u001b[38;5;124m'\u001b[39m,\u001b[38;5;28mstr\u001b[39m(np\u001b[38;5;241m.\u001b[39mmean(score)))\n",
            "\u001b[0;31mNameError\u001b[0m: name 'R2' is not defined"
          ]
        }
      ],
      "source": [
        "import numpy as np \n",
        "import pandas as pd \n",
        "from sklearn.utils import shuffle\n",
        "from sklearn.model_selection import KFold\n",
        "from sklearn.linear_model import LinearRegression\n",
        "\n",
        "### 交叉验证\n",
        "def cross_validate(model, x, y, folds=5, repeats=5):\n",
        "    \n",
        "    ypred = np.zeros((len(y),repeats))\n",
        "    score = np.zeros(repeats)\n",
        "    for r in range(repeats):\n",
        "        i = 0\n",
        "        print('Cross Validating - Run', str(r + 1), 'out of', str(repeats))\n",
        "        x,y = shuffle(x, y, random_state=r) #shuffle data before each repeat\n",
        "        kf = KFold(n_splits=folds,shuffle=True,random_state=i+1000) #random split, different each time\n",
        "        for train_ind, test_ind in kf.split(x):\n",
        "            print('Fold', i+1, 'out of', folds)\n",
        "            xtrain,ytrain = x[train_ind,:],y[train_ind]\n",
        "            xtest,ytest = x[test_ind,:],y[test_ind]\n",
        "            model.fit(xtrain, ytrain)\n",
        "            #print(xtrain.shape, ytrain.shape, xtest.shape, ytest.shape)\n",
        "            ypred[test_ind] = model.predict(xtest)\n",
        "            i += 1\n",
        "        score[r] = R2(ypred[:,r],y)\n",
        "    print('Overall R2:',str(score))\n",
        "    print('Mean:',str(np.mean(score)))\n",
        "    print('Deviation:',str(np.std(score)))\n",
        "    pass\n",
        "\n",
        "cross_validate(regr, X, y, folds=5, repeats=5)"
      ]
    },
    {
      "cell_type": "code",
      "execution_count": null,
      "metadata": {},
      "outputs": [],
      "source": []
    }
  ],
  "metadata": {
    "kernelspec": {
      "display_name": "Pyolite",
      "language": "python",
      "name": "python"
    },
    "language_info": {
      "codemirror_mode": {
        "name": "python",
        "version": 3
      },
      "file_extension": ".py",
      "mimetype": "text/x-python",
      "name": "python",
      "nbconvert_exporter": "python",
      "pygments_lexer": "ipython3",
      "version": "3.8"
    },
    "toc": {
      "base_numbering": 1,
      "nav_menu": {},
      "number_sections": true,
      "sideBar": true,
      "skip_h1_title": false,
      "title_cell": "Table of Contents",
      "title_sidebar": "Contents",
      "toc_cell": false,
      "toc_position": {},
      "toc_section_display": true,
      "toc_window_display": false
    }
  },
  "nbformat": 4,
  "nbformat_minor": 4
}
